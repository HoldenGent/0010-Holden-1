{
 "cells": [
  {
   "cell_type": "code",
   "execution_count": 6,
   "metadata": {},
   "outputs": [
    {
     "name": "stdin",
     "output_type": "stream",
     "text": [
      "What would you like your next input added to? 435\n",
      "Insert next input: 231\n"
     ]
    },
    {
     "name": "stdout",
     "output_type": "stream",
     "text": [
      "666\n"
     ]
    }
   ],
   "source": [
    "item = input(\"What would you like your next input added to?\")\n",
    "item2= input(\"Insert next input:\")\n",
    "try:\n",
    "    newitem = int(item)+ int(item2);\n",
    "    #already fixed data type problem on rory's computer - Holden \n",
    "except:\n",
    "    try:\n",
    "        newitem=int(item)+(item2)\n",
    "    except:\n",
    "        try:\n",
    "            newitem= item+int(item2)\n",
    "        except: \n",
    "            newitem = item + item2\n",
    "print(newitem)\n",
    "    "
   ]
  },
  {
   "cell_type": "code",
   "execution_count": null,
   "metadata": {},
   "outputs": [],
   "source": []
  }
 ],
 "metadata": {
  "kernelspec": {
   "display_name": "Python 3",
   "language": "python",
   "name": "python3"
  },
  "language_info": {
   "codemirror_mode": {
    "name": "ipython",
    "version": 3
   },
   "file_extension": ".py",
   "mimetype": "text/x-python",
   "name": "python",
   "nbconvert_exporter": "python",
   "pygments_lexer": "ipython3",
   "version": "3.8.3"
  }
 },
 "nbformat": 4,
 "nbformat_minor": 4
}
