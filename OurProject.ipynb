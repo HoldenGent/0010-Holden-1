{
 "cells": [
  {
   "cell_type": "code",
   "execution_count": 8,
   "metadata": {},
   "outputs": [
    {
     "name": "stdin",
     "output_type": "stream",
     "text": [
      "What would you like 3 added to? er\n"
     ]
    },
    {
     "name": "stdout",
     "output_type": "stream",
     "text": [
      "er3\n"
     ]
    }
   ],
   "source": [
    "item = input(\"What would you like 3 added to?\")\n",
    "try:\n",
    "    newitem = int(item)+3;\n",
    "except: \n",
    "    newitem = item + \"3\"\n",
    "print(newitem)\n",
    "    "
   ]
  }
 ],
 "metadata": {
  "kernelspec": {
   "display_name": "Python 3",
   "language": "python",
   "name": "python3"
  },
  "language_info": {
   "codemirror_mode": {
    "name": "ipython",
    "version": 3
   },
   "file_extension": ".py",
   "mimetype": "text/x-python",
   "name": "python",
   "nbconvert_exporter": "python",
   "pygments_lexer": "ipython3",
   "version": "3.8.3"
  }
 },
 "nbformat": 4,
 "nbformat_minor": 4
}
